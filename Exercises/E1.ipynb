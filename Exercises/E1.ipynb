{
 "cells": [
  {
   "cell_type": "code",
   "execution_count": 1,
   "id": "b7154486-1621-4560-99a6-7b4b38d5fd74",
   "metadata": {
    "tags": []
   },
   "outputs": [],
   "source": [
    "%run stdPackages.ipynb"
   ]
  },
  {
   "cell_type": "markdown",
   "id": "37bfb403-e1e1-41b1-93fa-8f6f2dbecf1e",
   "metadata": {
    "tags": []
   },
   "source": [
    "# Marginal Abatement Costs"
   ]
  },
  {
   "cell_type": "markdown",
   "id": "3a43b783-8b4b-4a01-9b72-351f7d6054e0",
   "metadata": {
    "tags": []
   },
   "source": [
    "## 1. A Toy Model of Abatement Costs"
   ]
  },
  {
   "cell_type": "markdown",
   "id": "02eae6f9-3097-407f-8e9c-f082e31b4723",
   "metadata": {},
   "source": [
    "In the first exercise,  we consider the model from the note *A Simple Model of Abatement Costs* in section 1. We will use specific assumptions on production and climate damages as follows:\n",
    "* Production is isoelastic with $F(E) = \\gamma E^{\\alpha}$ where $\\gamma>0$ and $\\alpha\\in(0,1)$ are constants. We will use $\\alpha = 0.5$ and $\\gamma =1$ in the following.\n",
    "* The cost of extracting fossil energy is normalized at $p_e = 1$.\n",
    "* Climate damages are quadratic with $D(M) = \\gamma_D M^2 /2$, where we will use $\\gamma_D = 100$ in the following.\n",
    "* The emission intensity of fossil energy is set to $\\phi = 0.25$."
   ]
  },
  {
   "cell_type": "markdown",
   "id": "3526d147-2dc4-48b9-891a-f0fcf63ebcba",
   "metadata": {},
   "source": [
    "*We define preliminary symbols:*"
   ]
  },
  {
   "cell_type": "code",
   "execution_count": 2,
   "id": "bc3a556e-cdcb-45c2-bccb-ec7d06cf87df",
   "metadata": {
    "tags": []
   },
   "outputs": [],
   "source": [
    "α  = .5\n",
    "γ  = 1\n",
    "pe = 1 # price on e\n",
    "ϕ  = .25\n",
    "γd = 100 # scalar in damage function "
   ]
  },
  {
   "cell_type": "markdown",
   "id": "b9f95371-7cfd-45e7-9458-75995e9c5616",
   "metadata": {},
   "source": [
    "### **Q 1.1. Consumption and Emissions As a Function of $E$**"
   ]
  },
  {
   "cell_type": "markdown",
   "id": "50bd135d-efec-41e7-8462-eeb9495dfd0e",
   "metadata": {},
   "source": [
    "*We want to plot consumption ($C$) and emissions ($M$) as a function of $E$. To do so, do the following:*\n",
    "1. *Define ```Egrid``` as a linearly spaced grid from 0 to 1 with 1000 steps. Store it as a ```pd.Index```.*\n",
    "2. *For each $E_j\\in$ ```Egrid```, solve for a corresponding value of $C_j$ and $M_j$.* *Define ```Cgrid``` and ```Mgrid``` as pandas series with these values and ```Egrid``` as the index.*\n",
    "3. *Plot both in one, e.g. by collecting them as one dataframe and using pandas build-in ```.plot()``` function.*"
   ]
  },
  {
   "cell_type": "markdown",
   "id": "c52c2838-0e4e-4e89-9a2c-68fe66425bfb",
   "metadata": {},
   "source": [
    "### **Q 1.2. Baseline and optimal solutions**"
   ]
  },
  {
   "cell_type": "markdown",
   "id": "593f3d67-6dda-4cb6-adf6-6fd1dea0e96f",
   "metadata": {},
   "source": [
    "*Next, we want to compare the \"baseline\" solution to the optimal one. As mentioned in the lecture note, the baseline solution maximizes consumption without considering the climate externality, that is:*\n",
    "\n",
    "$$\\begin{align}\n",
    "    C^0 = \\max\\left(F(E)-p_eE\\right).\n",
    "\\end{align}$$\n",
    "\n",
    "*The first order condition for $E^0$ is then given by $F'(E)=p_e$. Solving this, we can write the baseline solution as:*\n",
    "\n",
    "$$\\begin{align}\n",
    "    E^0 &= \\left(\\dfrac{\\gamma \\alpha}{p_e}\\right)^{\\frac{1}{1-\\alpha}} \\\\ \n",
    "    C^0 &= \\gamma \\left(E^0\\right)^{\\alpha}-p_e E^0 \\\\ \n",
    "    M^0 &= \\phi E^0.\n",
    "\\end{align}$$\n",
    "\n",
    "*The optimal solution is the one that internalizes the climate externality, that is*\n",
    "\n",
    "$$\\begin{align}\n",
    "    C^* = \\max\\left(F(E)-p_eE-D(M)\\right).\n",
    "\\end{align}$$\n",
    "\n",
    "*With the functional forms used in this model, the condition that identifies the optimal $E^*$ (eq (3) from the lecture note), is given by:*\n",
    "\n",
    "$$\\begin{align}\n",
    "    \\alpha \\gamma E^{\\alpha-1}-p_e-\\gamma_D\\phi^2E = 0. \\tag{1}\n",
    "\\end{align}$$\n",
    "\n",
    "1. *Compute the level of \"baseline\" consumption $(C^0)$, fossil energy consumption $(E^0)$, and emissions $(M^0)$.*\n",
    "2. *Solve for the optimal solution $C^*, E^*, M^*$.*\n",
    "\n",
    "*Hint: There are several ways of numerically solving nonlinear equations like (1). One way is to use the ```fsolve``` method from ```scipy.optimize```. The ```scipy.optimize.fsolve(f, x0)``` solves the problem $f(x) = 0$ numerically, starting from the guess ```x0```. The following snippet, for instance, would solve for the x that satisfies $x^2-2x = 0$ starting with a guess of $x=1$:*\n",
    "```python\n",
    "x = scipy.optimize.fsolve(lambda x: x**2-2x, 1)\n",
    "```\n"
   ]
  },
  {
   "cell_type": "markdown",
   "id": "21007b01-9731-4c79-8daf-b703adb929d4",
   "metadata": {},
   "source": [
    "### **Q 1.3. Plot marginal abatement costs and marginal damages**"
   ]
  },
  {
   "cell_type": "markdown",
   "id": "c4bd1da2-163a-4498-aaef-b2365ac2b9f2",
   "metadata": {},
   "source": [
    "*We want to plot something like figure 1.3 in the lecture note:*\n",
    "1. *Use ```Egrid``` from Q1.1. For each $E_j \\in$```Egrid```, compute the marginal abatement costs and collect them in a vector ```MACgrid``` (e.g. a numpy array). Recall that the MAC curve is defind in (3) in the lecture note as*\n",
    "\n",
    "$$\\begin{align}\n",
    "    MAC = \\dfrac{F'(E)-p_e}{\\phi} = \\dfrac{\\gamma\\alpha E^{\\alpha-1}-p_e}{\\phi}.\n",
    "\\end{align}$$\n",
    "\n",
    "2. *For each $E_j\\in$```Egrid```, compute the marginal damages and collect them in a vector ```MDgrid``` (e.g. a numpy array). Recall that marginal damages are defined as*\n",
    "\n",
    "$$\\begin{align}\n",
    "    D'(M) = \\gamma_D M = \\gamma_D \\phi E.\n",
    "\\end{align}$$\n",
    "\n",
    "3. *Next, use that abated emissions are defined as $A \\equiv M^0-M = M^0-\\phi E$ to define ```Agrid``` for each $E_j\\in$```Egrid```. Define the ```Agrid``` as a ```pd.Index```.*\n",
    "\n",
    "4. *Redefine ```MACgrid``` and ```MDgrid``` as ```pd.Series``` objects with the index ```Agrid```.*\n",
    "5. *Plot both in one, e.g. by collecting them as one dataframe and using pandas build-in ```.plot()``` function.*"
   ]
  },
  {
   "cell_type": "markdown",
   "id": "a950f566-4a0d-4cf6-b848-957ea4e5b03b",
   "metadata": {
    "tags": []
   },
   "source": [
    "## Q2. A Toy Model of Abatement Costs"
   ]
  }
 ],
 "metadata": {
  "kernelspec": {
   "display_name": "Python 3 (ipykernel)",
   "language": "python",
   "name": "python3"
  },
  "language_info": {
   "codemirror_mode": {
    "name": "ipython",
    "version": 3
   },
   "file_extension": ".py",
   "mimetype": "text/x-python",
   "name": "python",
   "nbconvert_exporter": "python",
   "pygments_lexer": "ipython3",
   "version": "3.11.3"
  }
 },
 "nbformat": 4,
 "nbformat_minor": 5
}
