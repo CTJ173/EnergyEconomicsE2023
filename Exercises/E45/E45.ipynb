{
 "cells": [
  {
   "cell_type": "markdown",
   "id": "16112381-8b5e-489f-9600-058e11246d08",
   "metadata": {},
   "source": [
    "# Exercise 13: A nonlinear version of `mBasicInt`\n",
    "\n",
    "In this exercise you will get familiar with non-linear energy system models. It is required that you have read the lecture note on non-linear energy system models.\n",
    "\n",
    "We will be working with a nonlinear version of the rather simple `mBasicInt` model. For simple versions, we can use `SCIPY`'s algortithms for solving non-linear models, but for large models we will have to build our own algorithms for solving and estimating the model."
   ]
  },
  {
   "cell_type": "markdown",
   "id": "d5ebc0ae-162a-4dd7-90a6-3e2f08864ff6",
   "metadata": {
    "tags": []
   },
   "source": [
    "# 0. Import packages"
   ]
  },
  {
   "cell_type": "markdown",
   "id": "ea265bce-65ec-441e-8b3d-abbc696ccd41",
   "metadata": {},
   "source": [
    "We start by just importing standard packages:"
   ]
  },
  {
   "cell_type": "code",
   "execution_count": 1,
   "id": "b3455e26-a5a9-4773-874d-f2b6ffed2b5a",
   "metadata": {
    "tags": []
   },
   "outputs": [],
   "source": [
    "%run ../stdPackages.ipynb"
   ]
  },
  {
   "cell_type": "markdown",
   "id": "201fca52-fcd4-4c42-808e-c854096ce3f1",
   "metadata": {},
   "source": [
    "Then we need some functions for reading in the model databases:"
   ]
  },
  {
   "cell_type": "code",
   "execution_count": 2,
   "id": "7e27146d-697d-48b0-9029-da43a8036f11",
   "metadata": {
    "tags": []
   },
   "outputs": [],
   "source": [
    "from pyDbs import read, readSets, broadcast"
   ]
  },
  {
   "cell_type": "markdown",
   "id": "050b69d7-9005-4e08-8211-4e9601603965",
   "metadata": {},
   "source": [
    "`mBasicInt_NonLinear` is the class you will be working for in this exercise. You will also be using the standard LP framework in the `mBasicInt` class.  "
   ]
  },
  {
   "cell_type": "code",
   "execution_count": 3,
   "id": "91b0b105-4172-4563-88b6-b083e11238f7",
   "metadata": {
    "tags": []
   },
   "outputs": [],
   "source": [
    "from Solution.mBasicInt_NonLinearv2_final import *\n",
    "os.chdir(d['py'])\n",
    "from mBasicInt import *\n",
    "os.chdir(d['curr'])"
   ]
  },
  {
   "cell_type": "markdown",
   "id": "52441e44-ca4d-4af8-8e5b-bab0148c962a",
   "metadata": {},
   "source": [
    "We will use the following for estimating the time spent solving the model:"
   ]
  },
  {
   "cell_type": "markdown",
   "id": "12e8556a-e980-4b8f-8d8b-e7a40cfa65a2",
   "metadata": {
    "tags": []
   },
   "source": [
    "# 1. Read data"
   ]
  },
  {
   "cell_type": "markdown",
   "id": "89682527-c73f-4e25-a1f8-b3c66a61da7a",
   "metadata": {},
   "source": [
    "We will be using two different model databases. One of them only contains a few hours. This is usefull when building, simulating and estimating new models. The large model database contains all 8760 hours. With this size of model you will get to see the hoops and loops that will enable to solve and even estimate such a large model. "
   ]
  },
  {
   "cell_type": "markdown",
   "id": "742d54bd-9e93-4058-9a40-002c59061895",
   "metadata": {
    "tags": []
   },
   "source": [
    "This dictionary specifies the structure of the excel files:"
   ]
  },
  {
   "cell_type": "code",
   "execution_count": 4,
   "id": "2432d759-2877-4cba-915b-9f97fc3627b4",
   "metadata": {
    "tags": []
   },
   "outputs": [],
   "source": [
    "kwargs = {'variables': ['Fundamentals', 'Load', 'Generators_Other'], \n",
    "        'variable2D': ['Generators_FuelMix','HourlyVariation'],\n",
    "        'scalars': ['Scalars'],\n",
    "        'maps': ['Generators_Categories']}"
   ]
  },
  {
   "cell_type": "markdown",
   "id": "965dc141-fd5a-42e2-ae73-58df8dbb27ad",
   "metadata": {
    "tags": []
   },
   "source": [
    "We first read in the small database, and call it `db_s` for db_small:"
   ]
  },
  {
   "cell_type": "code",
   "execution_count": null,
   "id": "c53d332b-1a38-45c7-b931-cac498efffee",
   "metadata": {
    "tags": []
   },
   "outputs": [],
   "source": []
  },
  {
   "cell_type": "code",
   "execution_count": 5,
   "id": "77b68d9c-e4b8-4a3e-bfe1-00b8e14df9f2",
   "metadata": {
    "tags": []
   },
   "outputs": [],
   "source": [
    "# path_to_small_dataset = os.path.join(d['curr'],'Solution','mBasicInt_NonLinear_final.xlsx')\n",
    "path_to_small_dataset = os.path.join(d['curr'],'Data','mBasicInt_NonLinear.xlsx')\n",
    "db_s = read.dbFromWB(path_to_small_dataset, kwargs)\n",
    "db_s.updateAlias(alias=[('h','h_alias')])\n",
    "readSets(db_s)"
   ]
  },
  {
   "cell_type": "markdown",
   "id": "072b3034-82a4-47ce-a29e-dab550b1669b",
   "metadata": {},
   "source": [
    "Next, we read in the large database, and call it `db_l` for db_large:"
   ]
  },
  {
   "cell_type": "code",
   "execution_count": 6,
   "id": "7ef96b7c-beb3-495f-bf18-662cbc3e8f10",
   "metadata": {
    "tags": []
   },
   "outputs": [],
   "source": [
    "path_to_large_dataset = os.path.join(d['curr'],'Data','mBasicIntLarge_NonLinear.xlsx')\n",
    "db_l = read.dbFromWB(path_to_large_dataset, kwargs)\n",
    "db_l.updateAlias(alias=[('h','h_alias')])\n",
    "readSets(db_l)"
   ]
  },
  {
   "cell_type": "code",
   "execution_count": 7,
   "id": "53d15f40-17ec-40fd-8be5-93ceadc5bbaa",
   "metadata": {},
   "outputs": [
    {
     "ename": "SyntaxError",
     "evalue": "unexpected EOF while parsing (3960591231.py, line 2)",
     "output_type": "error",
     "traceback": [
      "\u001b[1;36m  Cell \u001b[1;32mIn[7], line 2\u001b[1;36m\u001b[0m\n\u001b[1;33m    [db_4.__setitim([\u001b[0m\n\u001b[1;37m                     ^\u001b[0m\n\u001b[1;31mSyntaxError\u001b[0m\u001b[1;31m:\u001b[0m unexpected EOF while parsing\n"
     ]
    }
   ],
   "source": [
    "# db_4 = db_l.copy()\n",
    "# [db_4.__setitim(["
   ]
  },
  {
   "cell_type": "markdown",
   "id": "fcd02155-2bc9-422d-bcfc-603199ef4c69",
   "metadata": {
    "jp-MarkdownHeadingCollapsed": true,
    "tags": []
   },
   "source": [
    "# 2. Class initialization"
   ]
  },
  {
   "cell_type": "markdown",
   "id": "e7ec63ea-5af0-4878-b10a-fb1082a837ac",
   "metadata": {},
   "source": [
    "Before building the non-linear model, let's have a look at the initialization of the class, `mSimpleNL`."
   ]
  },
  {
   "cell_type": "markdown",
   "id": "17bdf833-edb1-4f20-a8de-4873dbd052e3",
   "metadata": {},
   "source": [
    "The model initialization then consists of the following code-chunk:\n",
    "```python\n",
    "class mSimpleNL(): \n",
    "    def __init__(self, db):\n",
    "        mSimpleNL.updateDB(db) # <-- The model database is updated by adding a smoothing parameter (sigma) and a price vector. \n",
    "        self.db = db # <-- Assigns the model database to the class.\n",
    "        self.endo_vars = {'x_vars':['p'],'theta_vars':[]} # <-- See Comment A)\n",
    "        self.idx_endo = {'p': range(0,len(self.db['h']))} # <-- See Comment B)\t\t\n",
    "        self.set_model_structure() # <-- This function sets class properties relating to the dimensions of the model.\n",
    "        self.set_model_parameters()\t# <-- This function sets model parameters (i.e. exogenous parameters)\n",
    "```\n",
    "Somme addition comments are warrented:\n",
    "\n",
    "**Comment A):** The keys of this dictionary are the endogenous variables (denoted _x_vars_) and the endogenous parameters in a structural estimation (denoted _theta_vars_). The values are a list of variable names. For now, we will abstract from any estimation and therefore _theta_vars_ is just an empty list. This dictionary is really helpful, when the vector of endogenous variables consists of multiple variables. \n",
    "\n",
    "**Comment B):** _idx_endo_ specifies the index numbers of the endogenous numpy array. For instance. The endogenous price vector is indexed by the first $0:8759$. "
   ]
  },
  {
   "cell_type": "markdown",
   "id": "83004b34-94a7-471d-9ed0-084b02b7e791",
   "metadata": {},
   "source": [
    "# 3. Model simulations"
   ]
  },
  {
   "cell_type": "markdown",
   "id": "e375b502-f6db-4770-97e2-11dc5e9789cf",
   "metadata": {},
   "source": [
    "Before going into specific, let's have a look at the following function in the `mSimpleNL`-class:\n",
    "\n",
    "```python\n",
    "def xArray2pdSeries(self,x,variable='p'):\n",
    "\t\"\"\" Method for transforming endogenous variables from a numpy array to an indexed Pandas Series \"\"\"\n",
    " \treturn pd.Series(x[self.idx_endo[variable]],index=self.db[variable].index,name=variable) if variable in self.idx_endo.keys() else self.db[variable]\n",
    "```\n",
    "\n",
    "Rather than being structured via numpy arrays, the model is structured via pandas series. This is obviously less efficient than working with numpy arrays, but when working with (potentially) high-dimensional models the multindex-feature of pandas series greatly simplifies setting of the model. Especially, when defining such models for the first time. The _xArray2pdSeries_-function simply converts the endogenous vector (in numpy array) to a pandas series with the correct index. "
   ]
  },
  {
   "cell_type": "markdown",
   "id": "5c2a463c-6967-4d80-8b0f-c20792c41972",
   "metadata": {},
   "source": [
    "## 3.1 Simple small model"
   ]
  },
  {
   "cell_type": "markdown",
   "id": "3057741f-34cc-4eba-8507-98b3266f5cd5",
   "metadata": {},
   "source": [
    "In the following, you will be working with the small model database with a relatively few hours. "
   ]
  },
  {
   "cell_type": "code",
   "execution_count": 8,
   "id": "a8fd7ab7-c248-4f9e-97d3-e6356b6d3a13",
   "metadata": {
    "tags": []
   },
   "outputs": [],
   "source": [
    "m = mSimpleNL(db_s)"
   ]
  },
  {
   "cell_type": "markdown",
   "id": "ed874042-4b9e-4001-bf99-076308161774",
   "metadata": {
    "tags": []
   },
   "source": [
    "Similarly, to test the model, we need a guess of the equilibrium price vector $\\mathbf{p}^*=(p_1^*,\\ldots,p_H^*)'$. We are going to denote it $p^0$ just assume it is given by\n",
    "\n",
    "\\begin{equation*}\n",
    "    \\frac{1}{N}\\sum_{i=1}^{N} c^{\\text{other}}_i+\\sum_j \\mu_{i,j}p_j\n",
    "\\end{equation*}"
   ]
  },
  {
   "cell_type": "code",
   "execution_count": 9,
   "id": "58afa140-5a8b-4027-8a02-f876d37186a5",
   "metadata": {
    "tags": []
   },
   "outputs": [],
   "source": [
    "p0 = np.repeat(m.averageMC.mean(),m.H)"
   ]
  },
  {
   "cell_type": "markdown",
   "id": "cfb6a6a2-57c2-4832-83f4-7629ddc237fa",
   "metadata": {
    "tags": []
   },
   "source": [
    "### Question 3.1A"
   ]
  },
  {
   "cell_type": "markdown",
   "id": "a95f7038-2feb-4e3f-973d-982accfb8452",
   "metadata": {},
   "source": [
    "Make a smooth supply function. You should add the following function and fill in the rest in the `mSimpleNL`-class:\n",
    "```python\n",
    "def Supply(self,x):\n",
    "\t\"\"\" Smooth supply function \"\"\"\n",
    "\tInner = pd.Series(0,index=self.id2h).add(self.xArray2pdSeries(x,variable='p')).sub(self.averageMC).div(self.xArray2pdSeries(x,variable='p'))\n",
    "\treturn ... # <-- fill in here.\n",
    "```\n",
    "*Note: The function should return the smoothed supply function $\\mathbf{S}(\\mathbf{p})$, which for a given hour is given by*\n",
    "\n",
    "\n",
    "\\begin{equation*}\n",
    "    S_h(p_h) = \\sum_i q_i\\Phi\\left(\\frac{p_h-mc_i}{\\sigma}\\right)\n",
    "\\end{equation*}\n",
    "\n",
    "*Finally, note that the variable \"Inner\" in the \"Supply\"-function above is* $\\frac{\\mathbf{p}-\\mathbf{mc}}{\\sigma}$.\n",
    "\n",
    "To ensure the function works, try computing $S(p^0)$. It should look something like this:\n",
    "\n",
    "| h | Supply |\n",
    "|:--------:|:--------:|\n",
    "|  1   |  88.05   |\n",
    "|  2   |  70.60   |\n",
    "|  3   |  61.88   |\n",
    "| 4 | 81.07 |"
   ]
  },
  {
   "cell_type": "code",
   "execution_count": 10,
   "id": "3e0e8bd6-faac-4be3-8f37-369cdb47ca70",
   "metadata": {
    "tags": []
   },
   "outputs": [
    {
     "data": {
      "text/plain": [
       "h\n",
       "1    88.053047\n",
       "2    70.602244\n",
       "3    61.876843\n",
       "4    81.072726\n",
       "dtype: float64"
      ]
     },
     "execution_count": 10,
     "metadata": {},
     "output_type": "execute_result"
    }
   ],
   "source": [
    "m.Supply(p0) # ... Check here"
   ]
  },
  {
   "cell_type": "markdown",
   "id": "2487c183-f27c-4826-be44-35f75dbaa847",
   "metadata": {
    "tags": []
   },
   "source": [
    "### Question 3.1B"
   ]
  },
  {
   "cell_type": "markdown",
   "id": "f5c9dc67-917f-451c-b479-4629ed80c735",
   "metadata": {},
   "source": [
    "Add an excess demand function to `mSimpleNL`. You should copy and fill the rest:\n",
    "```python\n",
    "def ExcessDemand(self,x):\n",
    "\t\"\"\" Equilibrium indentity defined as excess demand\"\"\"\n",
    "\treturn ... # <-- fill in here.\n",
    "```\n",
    "*Note: The function should return,*\n",
    "\\begin{equation}\n",
    "\\mathbf{ED}(\\mathbf{p}) = \\mathbf{D}-\\mathbf{S}(\\mathbf{p})\n",
    "\\end{equation}\n",
    "*where demand is exogenous (i.e. price inelastic) and defined as a property of `mBasicInt_Nonlinear`.*\n",
    "\n",
    "Finally, try computing $\\mathbf{ED}(\\mathbf{p}^0)$ to ensure the function works. It should something like this:\n",
    "\n",
    "| h | Excess Demand |\n",
    "|:--------:|:--------:|\n",
    "|  1   |  -48.05   |\n",
    "|  2   |  49.40   |\n",
    "|  3   |  138.12   |\n",
    "| 4 | -41.07 |"
   ]
  },
  {
   "cell_type": "code",
   "execution_count": 11,
   "id": "bfdbecf5-b181-440b-b5f8-5948ede4dc01",
   "metadata": {
    "tags": []
   },
   "outputs": [
    {
     "data": {
      "text/plain": [
       "h\n",
       "1    -48.053047\n",
       "2     49.397756\n",
       "3    138.123157\n",
       "4    -41.072726\n",
       "dtype: float64"
      ]
     },
     "execution_count": 11,
     "metadata": {},
     "output_type": "execute_result"
    }
   ],
   "source": [
    "m.ExcessDemand(p0) # ... Check here"
   ]
  },
  {
   "cell_type": "markdown",
   "id": "d9a2b327-8967-4ceb-80d7-f02c4aa4f829",
   "metadata": {
    "tags": []
   },
   "source": [
    "### Question 3.1C"
   ]
  },
  {
   "cell_type": "markdown",
   "id": "a079bca8-aa88-4951-a99b-522596fb640d",
   "metadata": {
    "tags": []
   },
   "source": [
    "In this question, you are comment of two graphs. The first is the supply and demand curve for each hour. The second if the excess demand function in each hour. "
   ]
  },
  {
   "cell_type": "markdown",
   "id": "1854f5f1-368a-457f-90f0-6a9fe0572d7a",
   "metadata": {
    "tags": []
   },
   "source": [
    "We will start out by making a price grid to draw the function of this grid:"
   ]
  },
  {
   "cell_type": "code",
   "execution_count": 12,
   "id": "4b6a5980-4121-4eac-9bc4-5935742bf779",
   "metadata": {
    "tags": []
   },
   "outputs": [],
   "source": [
    "grid_size = 100\n",
    "p_min, p_max = 0, 40\n",
    "p_grid = np.linspace(p_min,p_max,grid_size).repeat(m.H).reshape(grid_size,m.H) "
   ]
  },
  {
   "cell_type": "markdown",
   "id": "bf9cf64f-667b-46d8-b19f-e8ed430aed05",
   "metadata": {},
   "source": [
    "Now we will compute the supply:"
   ]
  },
  {
   "cell_type": "code",
   "execution_count": 13,
   "id": "f3913ba3-72ca-48f7-a0c2-1c4da46e05a2",
   "metadata": {
    "tags": []
   },
   "outputs": [],
   "source": [
    "S = pd.Series(\n",
    "    np.array([m.Supply(x).values for x in p_grid]).flatten(),\n",
    "    index=pd.MultiIndex.from_product([p_grid.mean(axis=1),m.db['h'].tolist()],names=['p','h']),\n",
    "    name=r'Supply'\n",
    ")\n",
    "D = S*0+m.Demand"
   ]
  },
  {
   "cell_type": "markdown",
   "id": "7aae530e-c7e7-4465-9177-39316dbbbd29",
   "metadata": {
    "tags": []
   },
   "source": [
    "Next we plot supply and demand curves:"
   ]
  },
  {
   "cell_type": "code",
   "execution_count": 14,
   "id": "1ae3946a-4ee8-47b6-bdb6-9af7cbfe76d6",
   "metadata": {
    "tags": []
   },
   "outputs": [
    {
     "data": {
      "text/plain": [
       "<matplotlib.legend.Legend at 0x22ecadf5ca0>"
      ]
     },
     "execution_count": 14,
     "metadata": {},
     "output_type": "execute_result"
    },
    {
     "data": {
      "image/png": "[encoded data removed]",
      "text/plain": [
       "<Figure size 800x550 with 4 Axes>"
      ]
     },
     "metadata": {},
     "output_type": "display_data"
    }
   ],
   "source": [
    "fig, ax = plt.subplots(nrows=2,ncols=2,sharex=True,sharey=True)\n",
    "titles = [r'$h=$'+str(x) for x in m.db['h']]\n",
    "S.unstack('h').plot(subplots=True,ax=ax,color='red',title=titles,xlabel=r'$p$',ylabel='Quantity',legend=False)\n",
    "D.unstack('h').plot(subplots=True,ax=ax,color='blue',legend=False)\n",
    "fig.legend([r'$S(p)$','D'],loc='lower center', bbox_to_anchor=(0.5, -0.05), ncol=2, frameon=True)"
   ]
  },
  {
   "cell_type": "markdown",
   "id": "cb633580-45da-4788-87b9-2975850c6261",
   "metadata": {
    "tags": []
   },
   "source": [
    "Now we plot the excess demand functions:"
   ]
  },
  {
   "cell_type": "code",
   "execution_count": 15,
   "id": "e400cb1f-3713-4664-bad0-ecd4418416f5",
   "metadata": {
    "tags": []
   },
   "outputs": [
    {
     "data": {
      "text/plain": [
       "<matplotlib.legend.Legend at 0x22ecb054700>"
      ]
     },
     "execution_count": 15,
     "metadata": {},
     "output_type": "execute_result"
    },
    {
     "data": {
      "image/png": "[encoded data removed]",
      "text/plain": [
       "<Figure size 800x550 with 4 Axes>"
      ]
     },
     "metadata": {},
     "output_type": "display_data"
    }
   ],
   "source": [
    "fig, ax = plt.subplots(nrows=2,ncols=2,sharex=True,sharey=True)\n",
    "titles = [r'$h=$'+str(x) for x in m.db['h']]\n",
    "(D-S).unstack('h').plot(subplots=True,ax=ax,color='red',title=titles,xlabel=r'$p$',ylabel=r'$ED(p)$',label='ED',legend=False)\n",
    "(D*0).unstack('h').plot(subplots=True,ax=ax,color='black',linestyle='--',legend=False)\n",
    "fig.legend([r'$ED(p)$',r'$ED=0$'],loc='lower center', bbox_to_anchor=(0.5, -0.05), ncol=2, frameon=True)"
   ]
  },
  {
   "cell_type": "markdown",
   "id": "5f79075f-a810-45fc-8946-059be0625bd5",
   "metadata": {},
   "source": [
    "**Answer:**\n",
    "\n",
    "In all hours except $h=3$ do we have a unique equilibrium. In $h=3$ there is too little generating capacity to establish an equilbrium, given that demand is always larger than supply (i.e. the excess demand curve is always positive). "
   ]
  },
  {
   "cell_type": "markdown",
   "id": "cfa953b5-479a-4687-96b4-2a9f7b37af3e",
   "metadata": {
    "tags": []
   },
   "source": [
    "### Question 3.1D"
   ]
  },
  {
   "cell_type": "markdown",
   "id": "30baae86-f43b-4559-9100-d639c25cb7b4",
   "metadata": {},
   "source": [
    "Why is the equilibrium price in the standard `mBasicInt` in hour $3$ given by $\\lambda_3=25$?"
   ]
  },
  {
   "cell_type": "code",
   "execution_count": 20,
   "id": "c1fb8ae7-d482-462a-9b8c-10b3ca4daabc",
   "metadata": {
    "tags": []
   },
   "outputs": [],
   "source": [
    "%%capture\n",
    "m_LP = mSimple(db_s)\n",
    "m_LP();"
   ]
  },
  {
   "cell_type": "code",
   "execution_count": 16,
   "id": "db9e7dbf-5b9c-47bb-bbdd-ca9b1bcf96ed",
   "metadata": {
    "tags": []
   },
   "outputs": [
    {
     "data": {
      "text/plain": [
       "25.0"
      ]
     },
     "execution_count": 16,
     "metadata": {},
     "output_type": "execute_result"
    }
   ],
   "source": [
    "x0 = m_LP.db['marginalSystemCosts'].values\n",
    "x0[2]"
   ]
  },
  {
   "cell_type": "markdown",
   "id": "741a058a-c124-48f3-aac9-9ab00c930994",
   "metadata": {},
   "source": [
    "**Answer:**\n",
    "\n",
    "This is due to load shedding. There is not enough capacity and therefore the load is shedded in $h=3$ at the marginal willingness to pay (MWP) at $\\text{MWP}=25$."
   ]
  },
  {
   "cell_type": "markdown",
   "id": "5140d3eb-a907-4e6f-9108-c7d79374d49e",
   "metadata": {},
   "source": [
    "### Question 3.1E"
   ]
  },
  {
   "cell_type": "markdown",
   "id": "96482eb4-1944-4f32-92f3-39f58ac355bc",
   "metadata": {},
   "source": [
    "Given your answers above, explain the equilibrium condition in `mBasicInt_Nonlinear`, which is defined in the following function:\n",
    "\n",
    "```python\n",
    "def EquilibriumExists(self):\n",
    "\t\t\"\"\" Equilibrium condition checking whether an equilbrium exists\"\"\"\n",
    "\t\tMissingCapacity = self.Demand - self.hourlyGeneratingCapacity.groupby('h').sum()\n",
    "\t\tif (MissingCapacity>0).any():\n",
    "\t\t \twarnings.warn(r'You are missing '+str(MissingCapacity.round(1).max())+' in generating capacity for an equilibrium to exist in hour h='+str(MissingCapacity.idxmax()), UserErrorMessage)\n",
    "\t\telse:\n",
    "\t\t \treturn True\n",
    "```\n",
    "\n",
    "*Note: You can gain intuition by checking the function:*"
   ]
  },
  {
   "cell_type": "code",
   "execution_count": 17,
   "id": "7e331b9d-3d7d-4f02-9d95-da00e73b804a",
   "metadata": {
    "tags": []
   },
   "outputs": [
    {
     "name": "stderr",
     "output_type": "stream",
     "text": [
      "C:\\Users\\xnh825\\Documents\\GitHub\\EnergyEconomicsE2023\\Exercises\\E45\\Solution\\mBasicInt_NonLinearv2_final.py:169: UserErrorMessage: You are missing 51.2 in generating capacity for an equilibrium to exist in hour h=3\n",
      "  warnings.warn(r'You are missing '+str(MissingCapacity.round(1).max())+' in generating capacity for an equilibrium to exist in hour h='+str(MissingCapacity.idxmax()), UserErrorMessage)\n"
     ]
    }
   ],
   "source": [
    "m.EquilibriumExists()"
   ]
  },
  {
   "cell_type": "markdown",
   "id": "efe78fb6-a32c-4114-9f32-cd2d43e5b7d5",
   "metadata": {},
   "source": [
    "**Answer:**\n",
    "\n",
    "For a given hour $h$, the condition reads $D_h - \\sum_i q_{i,h}>0$. If this condition is fulfilled, demand will always be larger than aggregate supply. This is because $\\Phi\\left(\\frac{p_h-mc_i}{\\sigma}\\right) \\leq 1 $. "
   ]
  },
  {
   "cell_type": "markdown",
   "id": "699bb386-3d52-4ff6-8c02-1d176764545e",
   "metadata": {},
   "source": [
    "### Question 3.1F"
   ]
  },
  {
   "cell_type": "markdown",
   "id": "083a625d-6d53-415f-8725-a1c1ce70ae83",
   "metadata": {},
   "source": [
    "To ensure, we can always find an $ED(p^*)=0$, we will simply add a fictional plant called and Energy Deficiency Plant with the id=EDP. However, it is important to note, that this plant is a measure of load-sheddig and not generation. \n",
    "\n",
    "Add the specified number of generating capacity in the excel file for the model database by adding _standard_ plant with the id=EDP - short for Energy Deficiency Plant - with the following characteristics:\n",
    "- $mc^{\\text{other}}_{\\text{EDP}}=25$\n",
    "- $q_{\\text{EDP}} = 60 $\n",
    "- $\\forall j: \\mu_{\\text{EDP},j} = 0$\n",
    "\n",
    "You should be able to import the data using the following chunk:"
   ]
  },
  {
   "cell_type": "code",
   "execution_count": 18,
   "id": "4abda2ec-0706-42e0-9df3-9103ee88faf9",
   "metadata": {
    "tags": []
   },
   "outputs": [],
   "source": [
    "path_to_small_dataset = os.path.join(d['curr'],'Solution','mBasicInt_NonLinear_final.xlsx')\n",
    "db_s = read.dbFromWB(path_to_small_dataset, kwargs)\n",
    "db_s.updateAlias(alias=[('h','h_alias')])\n",
    "readSets(db_s)"
   ]
  },
  {
   "cell_type": "markdown",
   "id": "45b84ca3-ada6-426a-9fbf-4229c8f2964b",
   "metadata": {},
   "source": [
    "### Question 3.1G"
   ]
  },
  {
   "cell_type": "markdown",
   "id": "ffb27828-c15a-4bb5-8791-3ce4c33b9551",
   "metadata": {
    "tags": []
   },
   "source": [
    "You will soon be asked to compute the equilibrium price vector. To do this, we will start by doing this by writing a wrapper around `SCIPY`'s [fsolve](https://docs.scipy.org/doc/scipy/reference/generated/scipy.optimize.fsolve.html)-function. The fsolve function just compute the solution to a sqaure system of nonlinear equations. \n",
    "\n",
    "You should add the following function to `mBasicInt` and fill in the \"func\"-argument in the _fsolve_-function:\n",
    "\n",
    "```python\n",
    "def ScipySolver(self,x0=None,full_output=False):\n",
    "\t\"\"\" A wrapper around Scipy's fsolve function\"\"\"\n",
    "    if self.EquilibriumExists():\n",
    "        if x0 is None:\n",
    "            x0 = self.db['p'].values # <-- If the user does not provide an initial quess for p*, we will manually assign one.\n",
    "        return fsolve(func=lambda x:..., x0=x0,full_output=full_output) # <-- fill in the dots\n",
    "```\n",
    "*Note: The function your are asked to provide is the equilibrium identity. The easiest approach is to provide a lambda-expression).*"
   ]
  },
  {
   "cell_type": "markdown",
   "id": "78cd79e3-e8ae-48bb-944a-1da5c67ea429",
   "metadata": {},
   "source": [
    "You can check the function by running: "
   ]
  },
  {
   "cell_type": "code",
   "execution_count": 28,
   "id": "3a05fb1d-fd07-42fc-b43d-be657c2f69bf",
   "metadata": {
    "tags": []
   },
   "outputs": [
    {
     "data": {
      "text/plain": [
       "array([ 4.72195156, 14.77741799, 27.10894493,  5.18703057])"
      ]
     },
     "execution_count": 28,
     "metadata": {},
     "output_type": "execute_result"
    }
   ],
   "source": [
    "m = mSimpleNL(db_s)\n",
    "p_star = m.ScipySolver(x0=p0)\n",
    "p_star"
   ]
  },
  {
   "cell_type": "markdown",
   "id": "1a5e7418-a655-4a36-b82c-8de1c4d435b6",
   "metadata": {},
   "source": [
    "### Question 3.1H:"
   ]
  },
  {
   "cell_type": "code",
   "execution_count": 24,
   "id": "8f8f2cc0-fe68-4ad0-99d9-79347e55cce9",
   "metadata": {
    "tags": []
   },
   "outputs": [
    {
     "data": {
      "text/plain": [
       "h\n",
       "1   -0.0\n",
       "2   -0.0\n",
       "3   -0.0\n",
       "4    0.0\n",
       "dtype: float64"
      ]
     },
     "execution_count": 24,
     "metadata": {},
     "output_type": "execute_result"
    }
   ],
   "source": [
    "m.ExcessDemand(sol[0]).round(1)"
   ]
  },
  {
   "cell_type": "code",
   "execution_count": 7,
   "id": "c4b4379e-809e-46b0-9376-3f1efbcdf373",
   "metadata": {
    "tags": []
   },
   "outputs": [],
   "source": []
  },
  {
   "cell_type": "markdown",
   "id": "8080d3fe-0645-47ef-ac8d-33d3160a21fc",
   "metadata": {
    "tags": []
   },
   "source": [
    "Get inital guess from LP model:"
   ]
  },
  {
   "cell_type": "code",
   "execution_count": 15,
   "id": "7e394630-3afa-44a6-b673-af876c9baa69",
   "metadata": {
    "tags": []
   },
   "outputs": [
    {
     "name": "stdout",
     "output_type": "stream",
     "text": [
      "Solution status 0: Optimization terminated successfully. (HiGHS Status 7: Optimal)\n"
     ]
    },
    {
     "data": {
      "text/plain": [
       "h\n",
       "1     6.189324\n",
       "2    15.402685\n",
       "3    25.000000\n",
       "4     6.189324\n",
       "dtype: float64"
      ]
     },
     "metadata": {},
     "output_type": "display_data"
    }
   ],
   "source": [
    "m_LP = mSimple(db_s)\n",
    "m_LP()\n",
    "x0 = m_LP.db['marginalSystemCosts'].values\n",
    "display(pd.Series(x0,index=m.db['h']))"
   ]
  },
  {
   "cell_type": "code",
   "execution_count": 13,
   "id": "bb3fbc42-c15f-421c-927d-a23affbff8ba",
   "metadata": {
    "tags": []
   },
   "outputs": [
    {
     "data": {
      "text/plain": [
       "array([ 4.72195155, 14.77741799, 27.10894492,  5.18703058])"
      ]
     },
     "execution_count": 13,
     "metadata": {},
     "output_type": "execute_result"
    }
   ],
   "source": [
    "from scipy.optimize import fsolve, minimize\n",
    "fsolve(lambda x: m.ExcessDemand(x), x0=x0)"
   ]
  },
  {
   "cell_type": "code",
   "execution_count": 12,
   "id": "2d9c9148-1def-400d-a49f-4f005cdbd773",
   "metadata": {
    "tags": []
   },
   "outputs": [
    {
     "name": "stderr",
     "output_type": "stream",
     "text": [
      "C:\\Users\\xnh825\\Anaconda3\\envs\\EEotGT23\\lib\\site-packages\\scipy\\optimize\\_minpack_py.py:178: RuntimeWarning: The iteration is not making good progress, as measured by the \n",
      "  improvement from the last ten iterations.\n",
      "  warnings.warn(msg, RuntimeWarning)\n"
     ]
    },
    {
     "data": {
      "text/plain": [
       "array([  4.72195155,  14.77741798, 221.72439599,   5.18703058])"
      ]
     },
     "execution_count": 12,
     "metadata": {},
     "output_type": "execute_result"
    }
   ],
   "source": [
    "fsolve(lambda x: m.ExcessDemand(x), x0=m.db['p'])"
   ]
  },
  {
   "cell_type": "code",
   "execution_count": null,
   "id": "e9c5307c-88bc-43f6-89e6-aec5bfa824c7",
   "metadata": {},
   "outputs": [],
   "source": [
    "def avg_supply(price_matrix,model):\n",
    "    q = model.hourlyGeneratingCapacity.groupby('id').mean()\n",
    "    S =[model.simple_CapacityUtilization(x).mul(q).groupby('h').sum().mean() for x in price_matrix]\n",
    "    return pd.Series(S,index=pd.Index(price_matrix.mean(axis=1),name='Price'),name='Supply')"
   ]
  },
  {
   "cell_type": "code",
   "execution_count": 14,
   "id": "85322e3a-5361-4063-9af3-a942ecf54a3d",
   "metadata": {},
   "outputs": [
    {
     "data": {
      "text/plain": [
       "array([ 6.18932398, 15.40268456, 25.        ,  6.18932398])"
      ]
     },
     "execution_count": 14,
     "metadata": {},
     "output_type": "execute_result"
    }
   ],
   "source": [
    "x0"
   ]
  },
  {
   "cell_type": "code",
   "execution_count": null,
   "id": "c655482f-3982-4888-b05e-b1a9dd200356",
   "metadata": {},
   "outputs": [],
   "source": []
  }
 ],
 "metadata": {
  "kernelspec": {
   "display_name": "Python 3 (ipykernel)",
   "language": "python",
   "name": "python3"
  },
  "language_info": {
   "codemirror_mode": {
    "name": "ipython",
    "version": 3
   },
   "file_extension": ".py",
   "mimetype": "text/x-python",
   "name": "python",
   "nbconvert_exporter": "python",
   "pygments_lexer": "ipython3",
   "version": "3.9.7"
  }
 },
 "nbformat": 4,
 "nbformat_minor": 5
}
