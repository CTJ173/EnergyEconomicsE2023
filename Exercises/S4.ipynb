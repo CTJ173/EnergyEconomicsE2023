{
 "cells": [
  {
   "cell_type": "code",
   "execution_count": 1,
   "id": "bd70364a-d0ad-48e5-885c-d155ece184a1",
   "metadata": {
    "tags": []
   },
   "outputs": [],
   "source": [
    "%run stdPackages.ipynb"
   ]
  },
  {
   "cell_type": "markdown",
   "id": "f7ead03a-1ba6-4a47-91c5-fb9944422a1e",
   "metadata": {
    "tags": []
   },
   "source": [
    "# A Basic Model of the Electricity System"
   ]
  },
  {
   "cell_type": "markdown",
   "id": "f9b9b88d-55de-439d-a496-4005cee6a755",
   "metadata": {},
   "source": [
    "In this section, we consider the static model from exercise 3 (```S3.ipynb```)., but defined over a set of short run states that we refer to as hours (indexed $h$). Two key parameters from the previous section now varies with $h$:\n",
    "1. First, due to fluctuations in natural conditions such as wind speed, the generators can at most produce $q_{i,h} = q_i \\gamma_{i,h}$ MWh in hour $h$, where $\\gamma_{i,h} \\in [0, 1]$ indicates the availability of generator $i$ in hour $h$.\n",
    "2. Second, the load $(L_h)$ now varies across the $h$ hours. \n",
    "\n",
    "The file *PS4.xlsx* includes some simulated hourly variation data that we will use throughout. Table 1 translates the names used in the data to the symbols in the model. The data uses 12 representative days - one for each month of the year - to represent the yearly variation in an electricity system. Thus, the data includes 24$\\cdot$12 $=$ 288 hours in total."
   ]
  },
  {
   "cell_type": "markdown",
   "id": "b11f5653-8450-436b-a86d-c0569a115ccb",
   "metadata": {},
   "source": [
    "The file *PS3\\_Q1_tables.xlsx* includes a small dataset with three generators. Tables 1-2 translates the names used in the data to the symbols used in the model above. \n",
    "\n",
    "| **Table 1: Symbols Dictionary** | |\n",
    "| --- | --- |\n",
    "| *Name in excel data* | *Model Symbol* |\n",
    "| FuelMix | $\\mu_j^i$ |\n",
    "| EmissionIntensity | $\\phi_j$ |\n",
    "|FuelPrice | $p_j^f$ |\n",
    "| EmissionTax | $p_{CO2}$ |\n",
    "| Load | $L$ |\n",
    "| GeneratingCapacity | $q_i$ |\n",
    "| OtherMC | $c_i^{oth}$ |\n",
    "\n",
    "| **Table 2: Index Dictionary** | |\n",
    "| --- | --- |\n",
    "| *Name in excel data* | *Model Index* |\n",
    "| BFt | $j$ |\n",
    "| id | $i$ |"
   ]
  },
  {
   "cell_type": "code",
   "execution_count": null,
   "id": "faefecfe-b3ea-4eea-802e-5692f1d1ebf7",
   "metadata": {},
   "outputs": [],
   "source": []
  }
 ],
 "metadata": {
  "kernelspec": {
   "display_name": "Python 3 (ipykernel)",
   "language": "python",
   "name": "python3"
  },
  "language_info": {
   "codemirror_mode": {
    "name": "ipython",
    "version": 3
   },
   "file_extension": ".py",
   "mimetype": "text/x-python",
   "name": "python",
   "nbconvert_exporter": "python",
   "pygments_lexer": "ipython3",
   "version": "3.11.3"
  }
 },
 "nbformat": 4,
 "nbformat_minor": 5
}
