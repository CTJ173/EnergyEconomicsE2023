{
 "cells": [
  {
   "cell_type": "markdown",
   "metadata": {},
   "source": [
    "*Import packages:*"
   ]
  },
  {
   "cell_type": "code",
   "execution_count": 2,
   "metadata": {},
   "outputs": [],
   "source": [
    "import matplotlib as mpl, matplotlib.pyplot as plt, pandas as pd, math, os, sys, seaborn as sns\n",
    "# from cycler import cycler\n",
    "%matplotlib inline"
   ]
  },
  {
   "cell_type": "markdown",
   "metadata": {},
   "source": [
    "*Theme styles:*"
   ]
  },
  {
   "cell_type": "code",
   "execution_count": 3,
   "metadata": {},
   "outputs": [],
   "source": [
    "plt.style.use('seaborn-v0_8-paper')"
   ]
  },
  {
   "cell_type": "markdown",
   "metadata": {},
   "source": [
    "*pgf settings:*"
   ]
  },
  {
   "cell_type": "code",
   "execution_count": 4,
   "metadata": {},
   "outputs": [],
   "source": [
    "def print_pgf():\n",
    "    mpl.use(\"pgf\")\n",
    "    mpl.rcParams.update({\n",
    "        \"pgf.texsystem\": \"pdflatex\",\n",
    "        'font.family': 'serif',\n",
    "        'font.serif': ['Times New Roman'] + plt.rcParams['font.serif'],\n",
    "        'mathtext.fontset': 'cm',\n",
    "        'text.usetex': True,\n",
    "        'pgf.rcfonts': False,\n",
    "        'font.size': 11,\n",
    "        \"axes.grid\":True,\n",
    "        \"axes.grid.axis\": \"y\",\n",
    "        'axes.spines.right': False,\n",
    "        'axes.spines.top':False,\n",
    "        \"grid.color\":\"black\",\n",
    "        \"grid.alpha\":\"0.25\",\n",
    "        \"grid.linestyle\":\"--\",\n",
    "    })\n",
    "    plt.rc(\"savefig\", dpi=200)\n",
    "    plt.rc(\"legend\", loc=\"best\", fontsize=12, frameon=False)#, fancybox=True, framealpha=0.5)\n",
    "    plt.rc(\"lines\", linewidth=1.5, markersize=5, markeredgewidth=1.5)"
   ]
  },
  {
   "cell_type": "markdown",
   "metadata": {},
   "source": [
    "*Get colors:*"
   ]
  },
  {
   "cell_type": "code",
   "execution_count": 6,
   "metadata": {},
   "outputs": [],
   "source": [
    "# colors = ['k','b','r','g','c']\n",
    "# line_cycler   = (cycler(color=colors) +\n",
    "#                  cycler(linestyle=[\"-\", \"--\", \"-.\", \"--\", \"-\"]) +\n",
    "#                  cycler(marker=[\"none\", \"none\", \"none\", \"none\",\"none\"]))\n",
    "# marker_cycler = (cycler(color=colors) +\n",
    "#                  cycler(linestyle=[\"-\", \"-\", \"--\", '-', '-']) +\n",
    "#                  cycler(marker=[\".\", \"^\", \"+\", \"s\",\"|\"]))\n",
    "# bar_cycler = cycler('color',colors)\n",
    "# area_cycler = cycler('color',['gray','b','r','g','c'])"
   ]
  },
  {
   "cell_type": "markdown",
   "metadata": {},
   "source": [
    "*User specific settings:*"
   ]
  },
  {
   "cell_type": "code",
   "execution_count": 7,
   "metadata": {},
   "outputs": [],
   "source": [
    "def one_graph():\n",
    "    plt.rcParams['figure.constrained_layout.use'] = False\n",
    "    mpl.rcParams['figure.figsize'] = [4.9, 4.9*4.8/6.4]\n",
    "    mpl.rcParams['font.size'] = 11\n",
    "    mpl.rcParams['axes.labelsize'] = 11  # fontsize of the x and y labels\n",
    "    mpl.rcParams['xtick.labelsize'] = 11 # fontsize of the xtick labels\n",
    "    mpl.rcParams['ytick.labelsize'] = 11 # fontsize of the ytick labels\n",
    "    mpl.rcParams['legend.fontsize'] = 11 # legend fontsize"
   ]
  },
  {
   "cell_type": "code",
   "execution_count": 8,
   "metadata": {},
   "outputs": [],
   "source": [
    "def two_graphs():\n",
    "    plt.rcParams['figure.constrained_layout.use'] = True\n",
    "    mpl.rcParams['figure.figsize'] = [5.5, 5.5*4.8/6.4/1.5]\n",
    "    mpl.rcParams['font.size'] = 11\n",
    "    mpl.rcParams['axes.labelsize'] = 11  # fontsize of the x and y labels\n",
    "    mpl.rcParams['xtick.labelsize'] = 11 #10 # fontsize of the xtick labels\n",
    "    mpl.rcParams['ytick.labelsize'] = 11 #10 # fontsize of the ytick labels\n",
    "    mpl.rcParams['axes.titlesize'] = 12 # fontsize of title above subplots\n",
    "    mpl.rcParams['legend.fontsize'] = 11 # legend fontsize"
   ]
  },
  {
   "cell_type": "code",
   "execution_count": 9,
   "metadata": {},
   "outputs": [],
   "source": [
    "def mult_graphs():\n",
    "    plt.rcParams['figure.constrained_layout.use'] = True\n",
    "    mpl.rcParams['figure.figsize'] = [5.5, 5.5*4.8/6.4]\n",
    "    mpl.rcParams['font.size'] = 10\n",
    "    mpl.rcParams['axes.labelsize'] = 10  # fontsize of the x and y labels\n",
    "    mpl.rcParams['xtick.labelsize'] = 10 # fontsize of the xtick labels\n",
    "    mpl.rcParams['ytick.labelsize'] = 10 # fontsize of the ytick labels\n",
    "    mpl.rcParams['axes.titlesize'] = 11 # fontsize of title above subplots\n",
    "    mpl.rcParams['legend.fontsize'] = 10 # legend fontsize"
   ]
  },
  {
   "cell_type": "code",
   "execution_count": 1,
   "metadata": {},
   "outputs": [],
   "source": [
    "def huge_graphs():\n",
    "    plt.rcParams['figure.constrained_layout.use'] = True\n",
    "    mpl.rcParams['figure.figsize'] = [6, 6]\n",
    "    mpl.rcParams['font.size'] = 10\n",
    "    mpl.rcParams['axes.labelsize'] = 10  # fontsize of the x and y labels\n",
    "    mpl.rcParams['xtick.labelsize'] = 10 # fontsize of the xtick labels\n",
    "    mpl.rcParams['ytick.labelsize'] = 10 # fontsize of the ytick labels\n",
    "    mpl.rcParams['axes.titlesize'] = 11 # fontsize of title above subplots\n",
    "    mpl.rcParams['legend.fontsize'] = 10 # legend fontsize"
   ]
  },
  {
   "cell_type": "code",
   "execution_count": null,
   "metadata": {},
   "outputs": [],
   "source": [
    "def long_graphs():\n",
    "    plt.rcParams['figure.constrained_layout.use'] = False\n",
    "    mpl.rcParams['figure.figsize'] = [4.9, 4.9*6.4/4.8]\n",
    "    mpl.rcParams['font.size'] = 11\n",
    "    mpl.rcParams['axes.labelsize'] = 11  # fontsize of the x and y labels\n",
    "    mpl.rcParams['xtick.labelsize'] = 11 # fontsize of the xtick labels\n",
    "    mpl.rcParams['ytick.labelsize'] = 11 # fontsize of the ytick labels\n",
    "    mpl.rcParams['legend.fontsize'] = 11 # legend fontsize"
   ]
  }
 ],
 "metadata": {
  "kernelspec": {
   "display_name": "Python 3 (ipykernel)",
   "language": "python",
   "name": "python3"
  },
  "language_info": {
   "codemirror_mode": {
    "name": "ipython",
    "version": 3
   },
   "file_extension": ".py",
   "mimetype": "text/x-python",
   "name": "python",
   "nbconvert_exporter": "python",
   "pygments_lexer": "ipython3",
   "version": "3.9.7"
  }
 },
 "nbformat": 4,
 "nbformat_minor": 4
}
