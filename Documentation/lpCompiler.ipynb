{
 "cells": [
  {
   "cell_type": "markdown",
   "id": "61e35030-eedb-49c2-a939-dd3bd59edf4b",
   "metadata": {
    "tags": []
   },
   "source": [
    "# The ```lpBlock``` class"
   ]
  },
  {
   "cell_type": "code",
   "execution_count": null,
   "id": "fd855255-b2d5-46c8-b0bf-93318f7e7ec4",
   "metadata": {},
   "outputs": [],
   "source": []
  }
 ],
 "metadata": {
  "kernelspec": {
   "display_name": "Python 3 (ipykernel)",
   "language": "python",
   "name": "python3"
  },
  "language_info": {
   "codemirror_mode": {
    "name": "ipython",
    "version": 3
   },
   "file_extension": ".py",
   "mimetype": "text/x-python",
   "name": "python",
   "nbconvert_exporter": "python",
   "pygments_lexer": "ipython3",
   "version": "3.9.7"
  }
 },
 "nbformat": 4,
 "nbformat_minor": 5
}
