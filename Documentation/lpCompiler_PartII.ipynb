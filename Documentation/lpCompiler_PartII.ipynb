{
 "cells": [
  {
   "cell_type": "code",
   "execution_count": 1,
   "id": "12d45926-bb79-432c-84a3-94d4bdf2a95a",
   "metadata": {},
   "outputs": [],
   "source": [
    "%run stdPackages.ipynb # this imports a lot of useful packages \n",
    "import base\n",
    "from pyDbs import read, readSets, broadcast # some helpful auxiliary database functions we will rely on "
   ]
  },
  {
   "cell_type": "markdown",
   "id": "9e056aee-1a3b-4b76-b343-ff688544b70c",
   "metadata": {},
   "source": [
    "# The ```lpBlock``` class - Part II: Compilation and execution"
   ]
  },
  {
   "cell_type": "markdown",
   "id": "b8019c0d-6f1b-4e57-b77d-907636b1b47e",
   "metadata": {},
   "source": [
    "We start by importing the database and the instance of the block with the structured arguments:"
   ]
  },
  {
   "cell_type": "code",
   "execution_count": 2,
   "id": "884c62f3-ab71-495b-9456-b594d3fb75ab",
   "metadata": {},
   "outputs": [],
   "source": [
    "with open(os.path.join(d['data'],'blockPartI'), \"rb\") as file:\n",
    "    block = pickle.load(file)\n",
    "with open(os.path.join(d['data'],'blockPartI_db'), \"rb\") as file:\n",
    "    db = pickle.load(file)"
   ]
  },
  {
   "cell_type": "markdown",
   "id": "8eea212a-7010-413f-9e3a-d43d57dfe4eb",
   "metadata": {},
   "source": [
    "This part II takes you through the compiling process as it may provide some insights into the troubleshooting process - if a model is misspecified. The main compilation function is implemented via the ```__call__(self, execute = None)``` method which can be called using the syntax ```self(execute = None)```. This method runs through four core steps that we go through in the following sections (the kwarg ```execute``` can be passed to only run a subset of the methods):\n",
    "\n",
    ">[1. compileParameters]: Takes the arguments that we specified in [**part I**](./lpCompiler_PartI.ipynb) and constructs new components.  \n",
    ">[2. settingsFromCompiled]: Extracts some useful meta-data from the compiled data, e.g. defining constraints/variables and their respective domains in the model.  \n",
    ">[3. inferGlobalDomains]: Uses the compiled elements to establish global domains ...  \n",
    ">[4. getDenseArgs]: Performs broadcasting and ... "
   ]
  },
  {
   "cell_type": "markdown",
   "id": "cb54f2ee-bb07-4fe8-9a72-bd08f8610c5c",
   "metadata": {},
   "source": [
    "## 1. Augmented form linear programming <a id='AugLP'></a>"
   ]
  },
  {
   "cell_type": "code",
   "execution_count": null,
   "id": "dab92348-0e09-48a3-8c2e-9b97804ebdf1",
   "metadata": {},
   "outputs": [],
   "source": []
  }
 ],
 "metadata": {
  "kernelspec": {
   "display_name": "Python 3 (ipykernel)",
   "language": "python",
   "name": "python3"
  },
  "language_info": {
   "codemirror_mode": {
    "name": "ipython",
    "version": 3
   },
   "file_extension": ".py",
   "mimetype": "text/x-python",
   "name": "python",
   "nbconvert_exporter": "python",
   "pygments_lexer": "ipython3",
   "version": "3.9.7"
  }
 },
 "nbformat": 4,
 "nbformat_minor": 5
}
