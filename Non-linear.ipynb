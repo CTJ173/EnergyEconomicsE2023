{
 "cells": [
  {
   "cell_type": "markdown",
   "id": "da84204a-34b8-45f5-80ce-942764dbed38",
   "metadata": {
    "tags": []
   },
   "source": [
    "Packages:"
   ]
  },
  {
   "cell_type": "code",
   "execution_count": 1,
   "id": "d2967ca4-03c7-46a8-989d-e042d064fe6b",
   "metadata": {
    "tags": []
   },
   "outputs": [],
   "source": [
    "%run stdPackages.ipynb\n",
    "from pyDbs import read, readSets, broadcast\n",
    "from py.mBasicInt_NonLinear import *"
   ]
  },
  {
   "cell_type": "markdown",
   "id": "1ea19060-976f-49df-b9cb-3a2537238cb1",
   "metadata": {},
   "source": [
    "Read data:"
   ]
  },
  {
   "cell_type": "code",
   "execution_count": 2,
   "id": "361b67f8-afdb-41a6-84af-09cab97490cb",
   "metadata": {
    "tags": []
   },
   "outputs": [],
   "source": [
    "kwargs = {'variables': ['Fundamentals', 'Load', 'Generators_Other'], \n",
    "        'variable2D': ['Generators_FuelMix','HourlyVariation'],\n",
    "        'scalars': ['Scalars'],\n",
    "        'maps': ['Generators_Categories']}\n",
    "db = read.dbFromWB(os.path.join(d['data'],'mBasicInt_NonLinear.xlsx'), kwargs)\n",
    "db.updateAlias(alias=[('h','h_alias')])\n",
    "readSets(db)"
   ]
  },
  {
   "cell_type": "markdown",
   "id": "9b667f4c-5fbb-496a-bf40-7b0c40f09650",
   "metadata": {
    "tags": []
   },
   "source": [
    "Initialize model:"
   ]
  },
  {
   "cell_type": "code",
   "execution_count": 3,
   "id": "ee58f3b1-37b3-4116-a876-6bd1d363f566",
   "metadata": {
    "tags": []
   },
   "outputs": [],
   "source": [
    "m = mSimpleNonLinear(db)"
   ]
  },
  {
   "cell_type": "markdown",
   "id": "8beaa25f-f2ed-4f25-9de8-7705fe8b7613",
   "metadata": {
    "tags": []
   },
   "source": [
    "Temporary price vector:"
   ]
  },
  {
   "cell_type": "code",
   "execution_count": 4,
   "id": "9c0844eb-a172-4890-851b-6aa39c4de993",
   "metadata": {
    "tags": []
   },
   "outputs": [],
   "source": [
    "p0 = pd.Series([50,50,50,50],index=db['h'],name='p')"
   ]
  },
  {
   "cell_type": "markdown",
   "id": "1dea5670-347d-4d9c-84f8-145bd62d624e",
   "metadata": {
    "tags": []
   },
   "source": [
    "Check aggregate supply:"
   ]
  },
  {
   "cell_type": "code",
   "execution_count": 5,
   "id": "7e15816d-7655-4045-88bf-05c3b0930bc0",
   "metadata": {
    "tags": []
   },
   "outputs": [
    {
     "data": {
      "text/plain": [
       "h\n",
       "1     174.98265\n",
       "2    157.482672\n",
       "3    148.732684\n",
       "4    167.982659\n",
       "dtype: object"
      ]
     },
     "execution_count": 5,
     "metadata": {},
     "output_type": "execute_result"
    }
   ],
   "source": [
    "m.fsupply(p0)"
   ]
  },
  {
   "cell_type": "markdown",
   "id": "3630f2ef-3e81-4478-b4a8-8f465162eed1",
   "metadata": {
    "tags": []
   },
   "source": [
    "Check demand:"
   ]
  },
  {
   "cell_type": "code",
   "execution_count": 6,
   "id": "6837fa90-1501-422a-ab37-5b3b2772e0c4",
   "metadata": {
    "tags": []
   },
   "outputs": [
    {
     "data": {
      "text/plain": [
       "h\n",
       "1     40.0\n",
       "2    120.0\n",
       "3    200.0\n",
       "4     40.0\n",
       "dtype: object"
      ]
     },
     "execution_count": 6,
     "metadata": {},
     "output_type": "execute_result"
    }
   ],
   "source": [
    "m.db['HourlyDemand'].groupby('h').sum()"
   ]
  },
  {
   "cell_type": "markdown",
   "id": "710ab3a9-90d8-4cd0-a20c-f9e646b3edc5",
   "metadata": {
    "tags": []
   },
   "source": [
    "Check excess demand:"
   ]
  },
  {
   "cell_type": "code",
   "execution_count": 7,
   "id": "2558cdcd-8f09-44fe-9b93-ed503f07a618",
   "metadata": {
    "tags": []
   },
   "outputs": [
    {
     "data": {
      "text/plain": [
       "h\n",
       "1    -134.98265\n",
       "2    -37.482672\n",
       "3     51.267316\n",
       "4   -127.982659\n",
       "dtype: object"
      ]
     },
     "execution_count": 7,
     "metadata": {},
     "output_type": "execute_result"
    }
   ],
   "source": [
    "m.fexcess_demand(p0)"
   ]
  },
  {
   "cell_type": "markdown",
   "id": "c75aff63-0cd4-41fe-adee-31f74c24a015",
   "metadata": {},
   "source": [
    "Find equilibrium price:"
   ]
  },
  {
   "cell_type": "code",
   "execution_count": 8,
   "id": "d3911518-088c-4406-b69e-ed070f0e6f22",
   "metadata": {
    "tags": []
   },
   "outputs": [
    {
     "data": {
      "text/plain": [
       "h\n",
       "1      0.959296\n",
       "2     17.872620\n",
       "3    114.549430\n",
       "4      1.597060\n",
       "Name: p, dtype: float64"
      ]
     },
     "execution_count": 8,
     "metadata": {},
     "output_type": "execute_result"
    }
   ],
   "source": [
    "m.solve(p0,jacobian='analytical')\n",
    "m.db['p']"
   ]
  },
  {
   "cell_type": "markdown",
   "id": "38e0310d-ea51-4933-8604-c3a93bd153f2",
   "metadata": {
    "tags": []
   },
   "source": [
    "Check equilibrium:"
   ]
  },
  {
   "cell_type": "code",
   "execution_count": 9,
   "id": "219ef6c2-031f-48a5-a07a-58debdc3b711",
   "metadata": {
    "tags": []
   },
   "outputs": [
    {
     "data": {
      "text/plain": [
       "h\n",
       "1    0.0\n",
       "2    0.0\n",
       "3    0.0\n",
       "4    0.0\n",
       "dtype: object"
      ]
     },
     "execution_count": 9,
     "metadata": {},
     "output_type": "execute_result"
    }
   ],
   "source": [
    "m.fexcess_demand(m.db['p'])"
   ]
  },
  {
   "cell_type": "code",
   "execution_count": 10,
   "id": "9492faff-e779-4c0b-b49f-f7bdab83a7aa",
   "metadata": {
    "tags": []
   },
   "outputs": [
    {
     "data": {
      "text/plain": [
       "h\n",
       "1     40.0\n",
       "2    120.0\n",
       "3    200.0\n",
       "4     40.0\n",
       "dtype: object"
      ]
     },
     "execution_count": 10,
     "metadata": {},
     "output_type": "execute_result"
    }
   ],
   "source": [
    "m.fsupply(m.db['p'])"
   ]
  },
  {
   "cell_type": "code",
   "execution_count": 11,
   "id": "9daafdf6-2025-481b-a4d2-093aa96b921a",
   "metadata": {
    "tags": []
   },
   "outputs": [],
   "source": [
    "m.update_db()"
   ]
  },
  {
   "cell_type": "code",
   "execution_count": 12,
   "id": "12ca5b99-24db-4de9-9ea5-473aae43026d",
   "metadata": {
    "tags": []
   },
   "outputs": [
    {
     "data": {
      "text/plain": [
       "id\n",
       "id1    106.069779\n",
       "id2     97.991551\n",
       "id3     81.666458\n",
       "id4     20.786768\n",
       "Name: 0, dtype: object"
      ]
     },
     "execution_count": 12,
     "metadata": {},
     "output_type": "execute_result"
    }
   ],
   "source": [
    "m.db['marginalEconomicValue']"
   ]
  },
  {
   "cell_type": "code",
   "execution_count": 13,
   "id": "14a6efb3-2e9f-41c4-aef2-61de357d4e4c",
   "metadata": {
    "tags": []
   },
   "outputs": [
    {
     "data": {
      "text/plain": [
       "id\n",
       "EDP     33.546619\n",
       "id1    131.057603\n",
       "id2    129.322405\n",
       "id3    125.434076\n",
       "id4      37.93141\n",
       "dtype: object"
      ]
     },
     "execution_count": 13,
     "metadata": {},
     "output_type": "execute_result"
    }
   ],
   "source": [
    "m.db['marginalEconomicRevenue']"
   ]
  },
  {
   "cell_type": "code",
   "execution_count": 14,
   "id": "c905bd36-7a6e-4849-9b76-8e13522baaa6",
   "metadata": {
    "tags": []
   },
   "outputs": [],
   "source": [
    "m.db['marginalEconomicCosts']"
   ]
  },
  {
   "cell_type": "code",
   "execution_count": 16,
   "id": "28b8f2b7-fc7d-49e2-95db-2d4a615797f8",
   "metadata": {
    "tags": []
   },
   "outputs": [
    {
     "data": {
      "text/plain": [
       "c   id \n",
       "c1  EDP    23163.534699\n",
       "    id1    23163.534699\n",
       "    id2    23163.534699\n",
       "    id3    23163.534699\n",
       "    id4    23163.534699\n",
       "dtype: object"
      ]
     },
     "execution_count": 16,
     "metadata": {},
     "output_type": "execute_result"
    }
   ],
   "source": [
    "m.db['ConsumerSurplus']"
   ]
  },
  {
   "cell_type": "code",
   "execution_count": 15,
   "id": "bc39d9bf-12cb-46d0-90a8-538a5536e119",
   "metadata": {
    "tags": []
   },
   "outputs": [
    {
     "data": {
      "text/plain": [
       "116124.18805087442"
      ]
     },
     "execution_count": 15,
     "metadata": {},
     "output_type": "execute_result"
    }
   ],
   "source": [
    "m.db['Welfare']"
   ]
  }
 ],
 "metadata": {
  "kernelspec": {
   "display_name": "Python 3 (ipykernel)",
   "language": "python",
   "name": "python3"
  },
  "language_info": {
   "codemirror_mode": {
    "name": "ipython",
    "version": 3
   },
   "file_extension": ".py",
   "mimetype": "text/x-python",
   "name": "python",
   "nbconvert_exporter": "python",
   "pygments_lexer": "ipython3",
   "version": "3.9.7"
  }
 },
 "nbformat": 4,
 "nbformat_minor": 5
}
