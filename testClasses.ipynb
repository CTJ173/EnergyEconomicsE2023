{
 "cells": [
  {
   "cell_type": "code",
   "execution_count": 1,
   "id": "c9e1cd6c-f97f-49a8-a778-d3070fad0842",
   "metadata": {
    "tags": []
   },
   "outputs": [],
   "source": [
    "%run stdPackages.ipynb"
   ]
  },
  {
   "cell_type": "markdown",
   "id": "e4848874-75b0-49ae-9d2d-45ba49103b92",
   "metadata": {},
   "source": [
    "# Test implemented classes"
   ]
  },
  {
   "cell_type": "code",
   "execution_count": 2,
   "id": "860887b1-c36f-4367-86b7-e8874e007bb3",
   "metadata": {
    "tags": []
   },
   "outputs": [],
   "source": [
    "from pyDbs import read, readSets, broadcast"
   ]
  },
  {
   "cell_type": "markdown",
   "id": "281ad8b0-0816-490f-9609-91f1ed88e909",
   "metadata": {},
   "source": [
    "## ```mBasicInt```"
   ]
  },
  {
   "cell_type": "markdown",
   "id": "af9f6aa2-ce07-44c6-96d4-5e2c3469c9ca",
   "metadata": {},
   "source": [
    "*Read data:*"
   ]
  },
  {
   "cell_type": "code",
   "execution_count": 3,
   "id": "970109a1-a35b-43b9-91c1-82b939c910b7",
   "metadata": {
    "tags": []
   },
   "outputs": [],
   "source": [
    "kwargs = {'variables': ['Fundamentals', 'Load', 'Generators_Other'], \n",
    "        'variable2D': ['Generators_FuelMix','HourlyVariation'],\n",
    "        'scalars': ['Scalars'],\n",
    "        'maps': ['Generators_Categories']}\n",
    "db = read.dbFromWB(os.path.join(d['data'],'mBasicInt.xlsx'), kwargs)\n",
    "db.updateAlias(alias=[('h','h_alias')])\n",
    "readSets(db)"
   ]
  },
  {
   "cell_type": "markdown",
   "id": "69158655-e525-4a69-a67a-809ed66e25c1",
   "metadata": {},
   "source": [
    "*Run basic model, run with emissionsCap, run with RES target, run with multiple consumers:*"
   ]
  },
  {
   "cell_type": "code",
   "execution_count": 4,
   "id": "26ec3916-584f-4859-907b-67be83e7741e",
   "metadata": {},
   "outputs": [
    {
     "name": "stdout",
     "output_type": "stream",
     "text": [
      "Solution status 0: Optimization terminated successfully. (HiGHS Status 7: Optimal)\n",
      "Solution status 0: Optimization terminated successfully. (HiGHS Status 7: Optimal)\n",
      "Solution status 0: Optimization terminated successfully. (HiGHS Status 7: Optimal)\n",
      "Solution status 0: Optimization terminated successfully. (HiGHS Status 7: Optimal)\n"
     ]
    }
   ],
   "source": [
    "m = mBasicInt.mSimple(db)\n",
    "m() # go through standard steps\n",
    "m = mBasicInt.mEmissionCap(db)\n",
    "m()\n",
    "m = mBasicInt.mRES(db)\n",
    "m()\n",
    "m = mBasicInt.mMultipleConsumers(db)\n",
    "m()"
   ]
  },
  {
   "cell_type": "markdown",
   "id": "1e3c7ec0-4b43-4616-bfb5-2ec0b8bb5ffd",
   "metadata": {
    "tags": []
   },
   "source": [
    "## ```mBasicTrade```"
   ]
  },
  {
   "cell_type": "markdown",
   "id": "36f77acb-f143-441d-9354-6f9ccd087387",
   "metadata": {},
   "source": [
    "*Read data:*"
   ]
  },
  {
   "cell_type": "code",
   "execution_count": 5,
   "id": "43f94a4a-2bc5-481c-a860-2cd16c2e9937",
   "metadata": {
    "tags": []
   },
   "outputs": [],
   "source": [
    "kwargs = {'variables': ['Fundamentals', 'Load', 'Generators_Other','TL'], \n",
    "        'variable2D': ['Generators_FuelMix','HourlyVariation'],\n",
    "        'scalars': ['Scalars'],\n",
    "        'maps': ['Generators_Categories','Load_Categories']}\n",
    "db = read.dbFromWB(os.path.join(d['data'],'mBasicTrade.xlsx'), kwargs)\n",
    "db.updateAlias(alias=[('h','h_alias')])\n",
    "readSets(db)"
   ]
  },
  {
   "cell_type": "markdown",
   "id": "10a0c4a9-e110-400f-b48a-8238e776ef4c",
   "metadata": {},
   "source": [
    "*Run basic model, run with emissionsCap, run with RES target; test regulation with separate geographic regulation or common*"
   ]
  },
  {
   "cell_type": "code",
   "execution_count": 6,
   "id": "6293f4ec-e45f-4a53-ad1f-e55eda3d2e8f",
   "metadata": {
    "tags": []
   },
   "outputs": [
    {
     "name": "stdout",
     "output_type": "stream",
     "text": [
      "Solution status 0: Optimization terminated successfully. (HiGHS Status 7: Optimal)\n",
      "Solution status 0: Optimization terminated successfully. (HiGHS Status 7: Optimal)\n",
      "Solution status 0: Optimization terminated successfully. (HiGHS Status 7: Optimal)\n",
      "Solution status 0: Optimization terminated successfully. (HiGHS Status 7: Optimal)\n",
      "Solution status 0: Optimization terminated successfully. (HiGHS Status 7: Optimal)\n"
     ]
    }
   ],
   "source": [
    "m = mBasicTrade.mSimple(db) # initialize using the database 'db' from above.\n",
    "m() # standard steps\n",
    "m = mBasicTrade.mEmissionCap(db)\n",
    "m()\n",
    "m.commonCap = True\n",
    "m()\n",
    "m = mBasicTrade.mRES(db)\n",
    "m()\n",
    "m.commonCap = True\n",
    "m()"
   ]
  },
  {
   "cell_type": "markdown",
   "id": "aebebeff-db55-4a28-8992-71882b9043e9",
   "metadata": {
    "tags": []
   },
   "source": [
    "## ```mBasicPH```"
   ]
  },
  {
   "cell_type": "markdown",
   "id": "83ddd19a-12fc-4ea1-99ef-caaeba9d8603",
   "metadata": {},
   "source": [
    "*Read data:*"
   ]
  },
  {
   "cell_type": "code",
   "execution_count": 7,
   "id": "34d34995-227a-46b9-a8b4-ea956a42faa9",
   "metadata": {
    "tags": []
   },
   "outputs": [],
   "source": [
    "kwargs = {'variables': ['Fundamentals', 'LoadVariables', 'TransmissionLines', 'GeneratorsVariables'],\n",
    "        'maps': ['LoadMaps','GeneratorsMaps'],\n",
    "        'variable2D': ['HourlyVariation'],\n",
    "        'scalars': ['Scalars']}\n",
    "db = read.dbFromWB(os.path.join(d['data'],'mBasicPH.xlsx'), kwargs)\n",
    "readSets(db)"
   ]
  },
  {
   "cell_type": "markdown",
   "id": "3fb137b0-c1bf-42e3-aaab-1faf8cd1fd75",
   "metadata": {},
   "source": [
    "*Test models:*"
   ]
  },
  {
   "cell_type": "code",
   "execution_count": 8,
   "id": "b94d3f9b-0737-4f22-a0c3-23ba5690b18a",
   "metadata": {
    "tags": []
   },
   "outputs": [
    {
     "name": "stdout",
     "output_type": "stream",
     "text": [
      "Solution status 0: Optimization terminated successfully. (HiGHS Status 7: Optimal)\n",
      "Solution status 0: Optimization terminated successfully. (HiGHS Status 7: Optimal)\n",
      "Solution status 0: Optimization terminated successfully. (HiGHS Status 7: Optimal)\n",
      "Solution status 0: Optimization terminated successfully. (HiGHS Status 7: Optimal)\n",
      "Solution status 0: Optimization terminated successfully. (HiGHS Status 7: Optimal)\n"
     ]
    }
   ],
   "source": [
    "m = mBasicPH.mSimple(db) # initialize using the database 'db' from above.\n",
    "m() # standard steps\n",
    "m = mBasicPH.mEmissionCap(db)\n",
    "m()\n",
    "m.commonCap = True\n",
    "m()\n",
    "m = mBasicPH.mRES(db)\n",
    "m()\n",
    "m.commonCap = True\n",
    "m()"
   ]
  },
  {
   "cell_type": "markdown",
   "id": "5c2492b3-9ce2-4a4b-aeb3-5e597ba5c096",
   "metadata": {
    "tags": []
   },
   "source": [
    "## ```mBasicPH_storage```"
   ]
  },
  {
   "cell_type": "code",
   "execution_count": 9,
   "id": "ed28a948-8882-482f-8df6-f3fe8882aa0c",
   "metadata": {
    "tags": []
   },
   "outputs": [],
   "source": [
    "kwargs = {'variables': ['Fundamentals', 'LoadVariables', 'TransmissionLines', 'GeneratorsVariables','StorageVariables','Regulation'],\n",
    "        'maps': ['LoadMaps','GeneratorsMaps','StorageMaps'],\n",
    "        'variable2D': ['HourlyVariation'],\n",
    "        'scalars': ['Scalars']}\n",
    "db = read.dbFromWB(os.path.join(d['data'],'mBasicPH_storage.xlsx'), kwargs)\n",
    "readSets(db)"
   ]
  },
  {
   "cell_type": "markdown",
   "id": "62b171b9-68e6-44d5-a63a-1d89de17da3d",
   "metadata": {},
   "source": [
    "*Test model:*"
   ]
  },
  {
   "cell_type": "code",
   "execution_count": 10,
   "id": "93c30ded-5b38-4633-ac62-ca25c9342da1",
   "metadata": {
    "tags": []
   },
   "outputs": [
    {
     "name": "stdout",
     "output_type": "stream",
     "text": [
      "Solution status 0: Optimization terminated successfully. (HiGHS Status 7: Optimal)\n"
     ]
    }
   ],
   "source": [
    "m = mBasicPH_storage.mSimple(db) # initialize using the database 'db' from above.\n",
    "m() # standard steps"
   ]
  },
  {
   "cell_type": "markdown",
   "id": "5a671f73-03cc-426c-b63d-d0fc7743af57",
   "metadata": {
    "tags": []
   },
   "source": [
    "## ```mGFTrade```"
   ]
  },
  {
   "cell_type": "markdown",
   "id": "987d8cb6-6906-4d06-a5d4-6f98420db562",
   "metadata": {},
   "source": [
    "*read data:*"
   ]
  },
  {
   "cell_type": "code",
   "execution_count": 11,
   "id": "57019d17-7d79-42c2-82ae-ee03a43b7046",
   "metadata": {
    "tags": []
   },
   "outputs": [],
   "source": [
    "kwargs = {'variables': ['Fundamentals', 'LoadVariables', 'TransmissionLines', 'GeneratorsVariables','Regulation'],\n",
    "        'maps': ['LoadMaps','GeneratorsMaps'],\n",
    "        'variable2D': ['HourlyVariation'],\n",
    "        'scalars': ['Scalars']}\n",
    "db = read.dbFromWB(os.path.join(d['data'],'mGFTrade.xlsx'), kwargs)\n",
    "readSets(db)"
   ]
  },
  {
   "cell_type": "markdown",
   "id": "43095386-8e01-4c4a-ade1-6334a7e06ade",
   "metadata": {},
   "source": [
    "*test model:*"
   ]
  },
  {
   "cell_type": "code",
   "execution_count": 12,
   "id": "be067aa4-2f12-4633-95fa-634a31b68072",
   "metadata": {
    "tags": []
   },
   "outputs": [
    {
     "name": "stdout",
     "output_type": "stream",
     "text": [
      "Solution status 0: Optimization terminated successfully. (HiGHS Status 7: Optimal)\n",
      "Solution status 0: Optimization terminated successfully. (HiGHS Status 7: Optimal)\n",
      "Solution status 0: Optimization terminated successfully. (HiGHS Status 7: Optimal)\n",
      "Solution status 0: Optimization terminated successfully. (HiGHS Status 7: Optimal)\n",
      "Solution status 0: Optimization terminated successfully. (HiGHS Status 7: Optimal)\n"
     ]
    }
   ],
   "source": [
    "m = mGFTrade.mSimple(db) # initialize using the database 'db' from above.\n",
    "m() # standard steps\n",
    "m = mGFTrade.mEmissionCap(db)\n",
    "m()\n",
    "m.commonCap = True\n",
    "m()\n",
    "m = mGFTrade.mRES(db)\n",
    "m()\n",
    "m.commonCap = True\n",
    "m()"
   ]
  },
  {
   "cell_type": "markdown",
   "id": "5f10d43d-68c2-4a6e-a7b7-01e0aa204afc",
   "metadata": {
    "tags": []
   },
   "source": [
    "## ```mGFPH```"
   ]
  },
  {
   "cell_type": "markdown",
   "id": "d2a884f0-6df7-4730-8e1f-ef2a5a9f61d7",
   "metadata": {},
   "source": [
    "*read data:*"
   ]
  },
  {
   "cell_type": "code",
   "execution_count": 13,
   "id": "f326e441-cd1b-428d-b5d2-f505b6fe296e",
   "metadata": {
    "tags": []
   },
   "outputs": [],
   "source": [
    "kwargs = {'variables': ['Fundamentals', 'LoadVariables', 'TransmissionLines', 'GeneratorsVariables','Regulation'],\n",
    "        'maps': ['LoadMaps','GeneratorsMaps'],\n",
    "        'variable2D': ['LoadVariation_E','LoadVariation_H','HourlyVariation'],\n",
    "        'scalars': ['Scalars']}\n",
    "db = read.dbFromWB(os.path.join(d['data'],'mGFPH.xlsx'), kwargs)\n",
    "readSets(db)"
   ]
  },
  {
   "cell_type": "markdown",
   "id": "f80c133a-b553-44a4-ab07-36f2309fa12c",
   "metadata": {},
   "source": [
    "*Select only the first couple of hours for this test:*"
   ]
  },
  {
   "cell_type": "code",
   "execution_count": 14,
   "id": "0a0126b1-b2a3-41ca-974c-ddc64f50191b",
   "metadata": {
    "tags": []
   },
   "outputs": [],
   "source": [
    "[db.__setitem__(k,adj.rc_pd(db[k], db['h'][0:3])) for k in db.variableDomains('h', types=['set','variable'])];"
   ]
  },
  {
   "cell_type": "markdown",
   "id": "f214061e-c87c-4ce8-bf39-c5194b563b86",
   "metadata": {},
   "source": [
    "*Run test:*"
   ]
  },
  {
   "cell_type": "code",
   "execution_count": 15,
   "id": "7985aa51-2ab0-41f2-a2df-93fe1d9140e5",
   "metadata": {
    "tags": []
   },
   "outputs": [
    {
     "name": "stdout",
     "output_type": "stream",
     "text": [
      "Solution status 0: Optimization terminated successfully. (HiGHS Status 7: Optimal)\n",
      "Solution status 0: Optimization terminated successfully. (HiGHS Status 7: Optimal)\n",
      "Solution status 0: Optimization terminated successfully. (HiGHS Status 7: Optimal)\n",
      "Solution status 0: Optimization terminated successfully. (HiGHS Status 7: Optimal)\n",
      "Solution status 0: Optimization terminated successfully. (HiGHS Status 7: Optimal)\n"
     ]
    }
   ],
   "source": [
    "m = mGFPH.mSimple(db) # initialize using the database 'db' from above.\n",
    "m() # standard steps\n",
    "m = mGFPH.mEmissionCap(db)\n",
    "m()\n",
    "m.commonCap = True\n",
    "m()\n",
    "m = mGFPH.mRES(db)\n",
    "m()\n",
    "m.commonCap = True\n",
    "m()"
   ]
  }
 ],
 "metadata": {
  "kernelspec": {
   "display_name": "Python 3 (ipykernel)",
   "language": "python",
   "name": "python3"
  },
  "language_info": {
   "codemirror_mode": {
    "name": "ipython",
    "version": 3
   },
   "file_extension": ".py",
   "mimetype": "text/x-python",
   "name": "python",
   "nbconvert_exporter": "python",
   "pygments_lexer": "ipython3",
   "version": "3.11.3"
  }
 },
 "nbformat": 4,
 "nbformat_minor": 5
}
